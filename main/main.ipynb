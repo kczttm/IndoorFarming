version https://git-lfs.github.com/spec/v1
oid sha256:ebc185dc45a55cd285c40238ea1a8860503d1657f814967987b5efdef8601cf7
size 200910790

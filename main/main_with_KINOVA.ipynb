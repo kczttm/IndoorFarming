version https://git-lfs.github.com/spec/v1
oid sha256:f5b6fc8ce39cf057e16434498bceeceeacc570b58828bcca04372697f8d70164
size 13625507

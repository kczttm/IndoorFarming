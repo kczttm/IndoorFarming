version https://git-lfs.github.com/spec/v1
oid sha256:1e8e9ae3a97a2705dcd4d116bf8a982c6b597f11f46ac7fd804df27747b2006f
size 79995

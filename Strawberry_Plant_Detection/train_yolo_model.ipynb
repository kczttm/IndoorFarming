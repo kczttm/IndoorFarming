version https://git-lfs.github.com/spec/v1
oid sha256:f628dcc54bd656c8bf4bace03636fcc99142d89dbfaa60ff953916364c84ef82
size 79834
